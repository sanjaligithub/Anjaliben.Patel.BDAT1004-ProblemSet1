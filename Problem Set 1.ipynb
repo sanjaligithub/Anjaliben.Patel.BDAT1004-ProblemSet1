{
 "cells": [
  {
   "cell_type": "markdown",
   "id": "34317a24",
   "metadata": {},
   "source": [
    "Question 1 C#\n",
    "What data type is each of the following?"
   ]
  },
  {
   "cell_type": "code",
   "execution_count": null,
   "id": "2bd9676b",
   "metadata": {},
   "outputs": [],
   "source": [
    "1)5\n",
    "Data type = Integer\n",
    "\n",
    "2)5.0\n",
    "Data type = Float\n",
    "\n",
    "3)5 > 1\n",
    "Data type = Boolean\n",
    "\n",
    "4)'5'\n",
    "Data type = String\n",
    "\n",
    "5)5 * 2\n",
    "Data type = Integer\n",
    "\n",
    "6)'5' * 2\n",
    "Data type = String\n",
    "\n",
    "7)'5' + '2'\n",
    "Data type = String\n",
    "\n",
    "8)5 / 2\n",
    "Data type = Float\n",
    "\n",
    "9)5 % 2\n",
    "Data type = Integer\n",
    "\n",
    "10){5, 2, 1}\n",
    "Data type = Set\n",
    "\n",
    "11)5 == 3\n",
    "Data type = Boolean\n",
    "\n",
    "12)Pi (the number)\n",
    "Data type = Float\n"
   ]
  },
  {
   "cell_type": "markdown",
   "id": "fbd6ef38",
   "metadata": {},
   "source": [
    "Question 2 C#\n",
    "\n",
    "Write (and evaluate) C# expressions that answer these questions:\n",
    "2a. How many letters are there in 'Supercalifragilisticexpialidocious'?\n"
   ]
  },
  {
   "cell_type": "code",
   "execution_count": null,
   "id": "e920be1e",
   "metadata": {},
   "outputs": [],
   "source": [
    "public class Program\n",
    "{\n",
    "\tpublic static void Main()\n",
    "\t{\n",
    "         string str = \"Supercalifragilisticexpialidocious\";\n",
    "\n",
    "         Console.WriteLine(\"String : \"+str);\n",
    "         Console.WriteLine(\"String Length: \"+str.Length);\n",
    "\t}\n",
    "}\n",
    "\n",
    "OUTPUT :\n",
    "String: Supercalifragilisticexpialidocious\n",
    "String Length: 34\n"
   ]
  },
  {
   "cell_type": "markdown",
   "id": "e59d1491",
   "metadata": {},
   "source": [
    "2b. Does 'Supercalifragilisticexpialidocious' contain 'ice' as a substring?"
   ]
  },
  {
   "cell_type": "code",
   "execution_count": null,
   "id": "b2b972e1",
   "metadata": {},
   "outputs": [],
   "source": [
    "using System;\n",
    "\t\t\t\t\t\n",
    "public class Program\n",
    "{\n",
    "\tpublic static void Main()\n",
    "\t{\n",
    "\t\t\n",
    "        int f = 0;\n",
    "      \tstring a,b;\n",
    "\t\ta = \"Supercalifragilisticexpialidocious\";\n",
    "\t\tb = \"ice\";\n",
    "        int l = a.Length;\n",
    "        int c = b.Length;\n",
    "\n",
    "        for (int i = 0; i < l; i++)\n",
    "        {\n",
    "            if (a[i] == b[0])\n",
    "            {\n",
    "                for (int K = i + 1, j = 1; j < c; j++, K++)\n",
    "                {\n",
    "                    if (a[K] == b[j])\n",
    "                    {\n",
    "                        f++;\n",
    "                    }\n",
    "                }\n",
    "            }\n",
    "        }\n",
    "        if (f == c-1)\n",
    "        {\n",
    "            Console.WriteLine(\"ice is substring of Supercalifragilisticexpialidocious\");\n",
    "        }\n",
    "        else\n",
    "        {\n",
    "            Console.WriteLine(\"Not\");\n",
    "        }\n",
    "        Console.ReadLine();\n",
    "\t}\n",
    "}\n",
    "\n",
    "OUTPUT :\n",
    "    ice is substring of Supercalifragilisticexpialidocious"
   ]
  },
  {
   "cell_type": "markdown",
   "id": "9225079b",
   "metadata": {},
   "source": [
    "2c.Which of the following words is the longest: \n",
    "Supercalifragilisticexpialidocious, Honorificabilitudinitatibus, or Bababadalgharaghtakamminarronnkonn?"
   ]
  },
  {
   "cell_type": "code",
   "execution_count": 42,
   "id": "0ab85ced",
   "metadata": {},
   "outputs": [
    {
     "name": "stdout",
     "output_type": "stream",
     "text": [
      "Supercalifragilisticexpialidocious and the length is 34\n",
      "Bababadalgharaghtakamminarronnkonn and the length is 34\n"
     ]
    }
   ],
   "source": [
    "s='Supercalifragilisticexpialidocious'\n",
    "h='Honorificabilitudinitatibus'\n",
    "b='Bababadalgharaghtakamminarronnkonn'\n",
    "if len(s)>=len(h) and len(s)>=len(b):\n",
    "    print(s + \" and the length is \" + str(len(s)))\n",
    "if len(h)>=len(s) and len(h)>=len(b):\n",
    "    print(h + \" and the length is \" + str(len(h)))\n",
    "if len(b)>=len(s) and len(b)>=len(h):\n",
    "    print(b + \" and the length is \" + str(len(b)))\n",
    "\n"
   ]
  },
  {
   "cell_type": "markdown",
   "id": "41db2567",
   "metadata": {},
   "source": [
    "2d. Which composer comes first in the dictionary: 'Berlioz', 'Borodin', 'Brian', 'Bartok', 'Bellini', 'Buxtehude', 'Bernstein'. Which one comes last?"
   ]
  },
  {
   "cell_type": "code",
   "execution_count": null,
   "id": "b3f1f633",
   "metadata": {},
   "outputs": [],
   "source": []
  },
  {
   "cell_type": "markdown",
   "id": "c6e63930",
   "metadata": {},
   "source": [
    " Question 3 C#\n",
    "\n",
    "Implement function triangleArea(a,b,c) that takes as input the lengths of the 3 \n",
    "sides of a triangle and returns the area of the triangle. By Heron's formula, the area \n",
    "of a triangle with side lengths a, b, and c is s(s − a)(s −b)(s −c), where\n",
    "s = (a + b + c)/2"
   ]
  },
  {
   "cell_type": "code",
   "execution_count": null,
   "id": "1d39931f",
   "metadata": {},
   "outputs": [],
   "source": [
    "using System;\n",
    "public class Program\n",
    "{\n",
    "\tpublic static void Main()\n",
    "\t{\n",
    "         double a,b,c;\n",
    "\t\tdouble S, triangleArea;\n",
    "\t\t\n",
    "\t\tConsole.WriteLine(\"Enter side a = \");\n",
    "\t\ta = double.Parse(Console.ReadLine());\n",
    "\t\t\n",
    "\t\tConsole.WriteLine(\"Enter side b = \");\n",
    "\t\tb = double.Parse(Console.ReadLine());\n",
    "\t\t\n",
    "\t\tConsole.WriteLine(\"Enter side c = \");\n",
    "\t\tc = double.Parse(Console.ReadLine());\n",
    "\t\t\n",
    "\t\tS=(a+b+c)/2;\n",
    "\t\ttriangleArea = Math.Sqrt((S*(S-a)*(S-b)*(S-c)));\n",
    "\t\t\n",
    "\t\t\n",
    "\t\tConsole.WriteLine(\"triangleArea = {0}\", triangleArea);\n",
    "\t}\n",
    "}\n",
    "\n",
    "OUTPUT :\n",
    "Enter side a = \n",
    "2\n",
    "Enter side b = \n",
    "2\n",
    "Enter side c = \n",
    "2\n",
    "triangleArea = 1.73205080756888"
   ]
  },
  {
   "cell_type": "markdown",
   "id": "640d7dc4",
   "metadata": {},
   "source": [
    "Question 4 C#\n",
    "\n",
    "Write a program in C# Sharp to separate odd and even integers in separate arrays. \n",
    "Go to the editor\n",
    "Test Data :\n",
    "Input the number of elements to be stored in the array :5 \n",
    "Input 5 elements in the array :\n",
    "element - 0 : 25\n",
    "element - 1 : 47\n",
    "element - 2 : 42\n",
    "element - 3 : 56\n",
    "element - 4 : 32 "
   ]
  },
  {
   "cell_type": "code",
   "execution_count": null,
   "id": "f8130505",
   "metadata": {},
   "outputs": [],
   "source": [
    "using System;\n",
    "\t\t\t\t\t\n",
    "public class Program\n",
    "{\n",
    "\tpublic static void Main()\n",
    "\t{\n",
    "\t\t//Define array to be store\n",
    "\t\tint[] arr1 = new int[10];\n",
    "\t\tint[] arr2 = new int[10];\n",
    "\t\tint[] arr3 = new int[10];\n",
    "\t\t\n",
    "\t\tint i,j=0,k=0,n;\n",
    "\t\t\n",
    "\t\tConsole.Write(\"Input number of elements to store in array :\");\n",
    "\t    n = Convert.ToInt32(Console.ReadLine()); \t   \n",
    "   \n",
    "       Console.Write(\"Input {0} elements in the array :\\n\", n);\n",
    "       for(i = 0; i<n; i++)\n",
    "       {\n",
    "\t      Console.Write(\"element-{0} : \",i);\n",
    "    \t  arr1[i] = Convert.ToInt32(Console.ReadLine()); \t\t  \n",
    "\t    }\n",
    "\t\n",
    "\t\tfor(i=0;i<n;i++)\n",
    "        {\n",
    "\t       if (arr1[i]%2 == 0)\n",
    "\t      {\n",
    "\t        arr2[j] = arr1[i];\n",
    "\t        j++;\n",
    "\t      }\n",
    "\t      else\n",
    "\t      {\n",
    "\t        arr3[k] = arr1[i];\n",
    "\t        k++;\n",
    "\t      }\n",
    "\t    }\n",
    "\n",
    "        Console.Write(\"\\nThe Even elements are : \\n\");\n",
    "         for(i=0;i<j;i++)\n",
    "         {\n",
    "\t        Console.Write(\"{0} \",arr2[i]);\n",
    "         }\n",
    "\n",
    "         Console.Write(\"\\nThe Odd elements are :\\n\");\n",
    "         for(i=0;i<k;i++)\n",
    "         {\n",
    "\t        Console.Write(\"{0} \", arr3[i]);\n",
    "         }\n",
    "\t}\n",
    "}\n",
    "\n",
    "OUTPUT :\n",
    "Input number of elements to store in array :5\n",
    "Input 5 elements in the array :\n",
    "element-0 : 25\n",
    "element-1 : 47\n",
    "element-2 : 42\n",
    "element-3 : 56\n",
    "element-4 : 32\n",
    "\n",
    "The Even elements are : \n",
    "42 56 32 \n",
    "The Odd elements are :\n",
    "25 47"
   ]
  },
  {
   "cell_type": "markdown",
   "id": "c99e9959",
   "metadata": {},
   "source": [
    "Question 5 C#\n",
    "\n",
    "a. Write a function inside(x,y,x1,y1,x2,y2) that returns True or False \n",
    "dependingonwhetherthepoint(x,y)liesintherectanglewithlowerleft \n",
    "corner (x1,y1) and upper right corner (x2,y2).\n",
    "\n",
    "b. Use function inside()from part a. to write an expression that tests whether \n",
    "the point (1,1) lies in both of the following rectangles: one with lower left \n",
    "corner (0.3, 0.5) and upper right corner (1.1, 0.7) and the other with lower \n",
    "left corner (0.5, 0.2) and upper right corner (1.1, 2)."
   ]
  },
  {
   "cell_type": "code",
   "execution_count": 41,
   "id": "6a68b1e5",
   "metadata": {},
   "outputs": [],
   "source": [
    "def inside(x,y,x1,y1,x2,y2) :\n",
    "    if (x > x1 and x < x2 and y > y1 and y < y2) :\n",
    "        return True\n",
    "    else :\n",
    "        return False\n"
   ]
  },
  {
   "cell_type": "markdown",
   "id": "6bd9084f",
   "metadata": {},
   "source": [
    "Question 6 Python\n",
    "\n",
    " You can turn a word into pig-Latin using the following two rules(simplified):\n",
    "• If the word starts with a consonant, move that letter to the end and append 'ay'. For example, 'happy' becomes 'appyhay' and 'pencil' becomes 'encilpay'.\n",
    "• If the word starts with a vowel, simply append 'way' to the end of the word. \n",
    "\n",
    "For example, 'enter' becomes 'enterway' and 'other' becomes 'otherway' . \n",
    "For our purposes, there are 5 vowels: a, e, i, o, u (so we count y as a consonant).\n",
    "Write a function pig() that takes a word (i.e., a string) as input and returns its pig\u0002Latin form. Your function should still work if the input word contains upper case characters. Your output should always be lower case however."
   ]
  },
  {
   "cell_type": "code",
   "execution_count": 17,
   "id": "c782dc7a",
   "metadata": {},
   "outputs": [
    {
     "name": "stdout",
     "output_type": "stream",
     "text": [
      "appyhay \n",
      "enterway \n",
      "anjaliway \n",
      "ataprogrammingday \n"
     ]
    }
   ],
   "source": [
    "def pig(word):\n",
    "    W = word.lower()\n",
    "    words = W.split()\n",
    "    vowels = (\"a\",\"e\",\"i\",\"o\",\"u\")\n",
    "    if W[0] in vowels:\n",
    "        for word in words:\n",
    "            print(word + \"way\", end = \" \")\n",
    "    else:\n",
    "        for word in words:\n",
    "            print(word[1:] + word[0] + \"ay\", end = \" \")\n",
    "    print()\n",
    "    \n",
    "pig('Happy')\n",
    "pig('Enter')\n",
    "pig('Anjali')\n",
    "pig('dataprogramming')"
   ]
  },
  {
   "cell_type": "markdown",
   "id": "ff255912",
   "metadata": {},
   "source": [
    "Question 7 Python\n",
    "\n",
    "File bloodtype1.txt records blood-types of patients (A, B, AB, O or OO) at a clinic. \n",
    "Write a function bldcount() that reads the file with name name and reports (i.e., \n",
    "prints) how many patients there are in each bloodtype."
   ]
  },
  {
   "cell_type": "code",
   "execution_count": 29,
   "id": "35f9c995",
   "metadata": {},
   "outputs": [
    {
     "name": "stdout",
     "output_type": "stream",
     "text": [
      "There are 9 patient of blood type A\n",
      "There is 1 patient of blood type B\n",
      "There are 10 patient of blood type AB\n",
      "There are 12 patient of blood type O\n",
      "There are no patient of blood type OO\n"
     ]
    }
   ],
   "source": [
    "def bldcount(txt):\n",
    "    with open(txt) as f:\n",
    "        lines = f.read()\n",
    "    BG = lines.split()\n",
    "    \n",
    "    a = 0\n",
    "    b = 0\n",
    "    ab = 0\n",
    "    o = 0\n",
    "    oo = 0\n",
    "\n",
    "    for blood in BG:\n",
    "        if blood == 'A' :\n",
    "            a = a+1            \n",
    "        elif blood == 'B':\n",
    "            b = b+1\n",
    "        elif blood == 'AB':\n",
    "            ab = ab+1\n",
    "        elif blood == 'O':\n",
    "            o = o+1\n",
    "        elif blood == 'OO':\n",
    "            oo = oo+1 \n",
    "    print(\"There \" + ('is ' if (a==1) else 'are ') + ('no' if (a==0) else str(a)) + (' patient' if (b==1) else ' patients') +\" of blood type A\")\n",
    "    print(\"There \" + ('is ' if (b==1) else 'are ' )+ ('no' if (b==0) else str(b)) + (' patient' if (b==1) else ' patients') +\" of blood type B\")\n",
    "    print(\"There \" + ('is ' if (ab==1) else 'are ' )+ ('no' if (ab==0) else str(ab)) + (' patient' if (b==1) else ' patients') +\" of blood type AB\")\n",
    "    print(\"There \" + ('is ' if (o==1) else 'are ' )+ ('no' if (o==0) else str(o)) + (' patient' if (b==1) else ' patients') +\" of blood type O\")\n",
    "    print(\"There \" + ('is ' if (oo==1) else 'are ' )+ ('no' if (oo==0) else str(oo)) + (' patient' if (b==1) else ' patients') +\" of blood type OO\")\n",
    "bldcount('bloodtype1.txt')"
   ]
  },
  {
   "cell_type": "markdown",
   "id": "e3a4fcbc",
   "metadata": {},
   "source": [
    "Question 8 Python\n",
    "\n",
    "Write a function curconv() that takes as input:\n",
    "1. a currency represented using a string (e.g., 'JPY' for the Japanese Yen or \n",
    "'EUR' for the Euro)\n",
    "2. an amount\n",
    "and then converts and returns the amount in US dollars."
   ]
  },
  {
   "cell_type": "code",
   "execution_count": 18,
   "id": "93ec50ec",
   "metadata": {},
   "outputs": [
    {
     "name": "stdout",
     "output_type": "stream",
     "text": [
      "122.96544\n",
      "1.241401\n"
     ]
    }
   ],
   "source": [
    "Currency = \"\"\n",
    "res = int\n",
    "def curconv(curr,amunt):\n",
    "    if curr == \"AUD\":\n",
    "        res = 1.0345157*amunt\n",
    "        Currency = \"Australian Dollar\"\n",
    "    elif curr == \"CHF\":\n",
    "        res =  1.0237414*amunt\n",
    "        Currency = \"Swiss Franc\"\n",
    "    elif curr == \"CNY\":\n",
    "        res =  0.1550176*amunt\n",
    "        Currency = \"Chinese Yuan\"\n",
    "    elif curr == \"DKK\":\n",
    "        res =  0.1651442*amunt\n",
    "        Currency = \"Danish Krone\"\n",
    "    elif curr == \"EUR\":\n",
    "        res =  1.2296544*amunt\n",
    "        Currency = \"Euro\"\n",
    "    elif curr == \"GBP\":\n",
    "        res =  1.5550989*amunt\n",
    "        Currency = \"British Pound\"\n",
    "    elif curr == \"HKD\":\n",
    "        res =  0.1270207*amunt\n",
    "        Currency = \"Hong Kong Dollar\"\n",
    "    elif curr == \"INR\":\n",
    "        res =  0.0177643*amunt\n",
    "        Currency = \"Indian Rupee\"\n",
    "    elif curr == \"JPY\":\n",
    "        res =  0.01241401*amunt\n",
    "        Currency = \"Japanese Yen\"\n",
    "    elif curr == \"MXN\":\n",
    "        res =  0.0751848*amunt\n",
    "        Currency = \"Mexican Peso\"\n",
    "    elif curr == \"MYR\":\n",
    "        res =  0.3145411*amunt\n",
    "        Currency = \"Malaysian Ringgit\"\n",
    "    elif curr == \"NOK\":\n",
    "        res =  0.1677063*amunt\n",
    "        Currency = \"Norwegian Krone\"\n",
    "    elif curr == \"NZD\":\n",
    "        res =  0.8003591*amunt\n",
    "        Currency = \"New Zealand Dollar\"\n",
    "    elif curr == \"PHP\":\n",
    "        res =  0.0233234*amunt\n",
    "        Currency = \"Philippine Peso\"\n",
    "    elif curr == \"SEK\":\n",
    "        res =  0.148269*amunt\n",
    "        Currency = \"Swedish Krona\"\n",
    "    elif curr == \"SGD\":\n",
    "        res =  0.788871*amunt\n",
    "        Currency = \"Singapore Dollar\"\n",
    "    elif curr == \"THB\":\n",
    "        res =  0.0313789*amunt\n",
    "        Currency = \"Thai Baht\"\n",
    "        \n",
    "    print (str(res))\n",
    "\n",
    "curconv(\"EUR\" , 100)\n",
    "curconv(\"JPY\" , 100)"
   ]
  },
  {
   "cell_type": "markdown",
   "id": "a03b2c95",
   "metadata": {},
   "source": [
    "Question 9 Python\n",
    "\n",
    "Each of the following will cause an exception (an error). Identify what type of \n",
    "exception each will cause."
   ]
  },
  {
   "cell_type": "code",
   "execution_count": null,
   "id": "e8f41f38",
   "metadata": {},
   "outputs": [],
   "source": [
    "1) Trying to add incompatible variables, as in adding 6 + ‘a’\n",
    "\n",
    "TypeError: unsupported operand type(s) for +: 'int' and 'str'\n",
    "Explanation : string and integer number can not be concatinate with each other. "
   ]
  },
  {
   "cell_type": "code",
   "execution_count": null,
   "id": "6adf36fa",
   "metadata": {},
   "outputs": [],
   "source": [
    "2) Referring to the 12th item of a list that has only 10 items\n",
    "\n",
    "IndexError: list index out of range list index out of range\n",
    "Explanation : As mentioned there is 10 items in list so we can not refer to the 12th item."
   ]
  },
  {
   "cell_type": "code",
   "execution_count": null,
   "id": "f358c3ad",
   "metadata": {},
   "outputs": [],
   "source": [
    "3) Using a value that is out ofrange for a function’s input, such as calling math.sqrt(-1.0)\n",
    "\n",
    "ValueError: math domain error\n",
    "Explanation : As of basic mathematics rule we can not find square root of negative numbers."
   ]
  },
  {
   "cell_type": "code",
   "execution_count": null,
   "id": "6bf75c0f",
   "metadata": {},
   "outputs": [],
   "source": [
    "4) Using an undeclared variable, such as print(x) when x has not been defined\n",
    "\n",
    "NameError: name 'X' is not defined\n",
    "Explanation : when we have not defined X variable so we can not print anything in code."
   ]
  },
  {
   "cell_type": "code",
   "execution_count": null,
   "id": "d45efde3",
   "metadata": {},
   "outputs": [],
   "source": [
    "5) Trying to open a file that does not exist, such as mistyping the file name or looking in the wrong directory.\n",
    "\n",
    "FileNotFoundError: [Errno 2] No such file or directory: 'anjali.txt'\n",
    "Explanation : when we have not created anjali.txt file the this error occur."
   ]
  },
  {
   "cell_type": "markdown",
   "id": "e5e79754",
   "metadata": {},
   "source": [
    "Question 10 Python\n",
    " \n",
    "Assume that the string letters is already defined as 'abcdefghijklmnopqrstuvwxyz'. \n",
    "Write a function called frequencies() that takes a string as its only parameter, and returns a list of integers, showing the \n",
    "number of times each character appears in the text. Your function may ignore any characters that are not in letters."
   ]
  },
  {
   "cell_type": "code",
   "execution_count": 38,
   "id": "71736cb0",
   "metadata": {},
   "outputs": [
    {
     "name": "stdout",
     "output_type": "stream",
     "text": [
      "[1, 1, 1, 3, 5, 1, 1, 2, 1, 0, 1, 0, 1, 2, 4, 0, 1, 2, 0, 2, 1, 0, 1, 1, 0, 0]\n",
      "[1, 0, 0, 0, 1, 0, 0, 0, 0, 0, 0, 1, 0, 0, 0, 2, 0, 0, 0, 0, 0, 0, 0, 0, 0, 0]\n"
     ]
    }
   ],
   "source": [
    "def frequencies(parameter):\n",
    "  string = \"abcdefghijklmnopqrstuvwqyz\"\n",
    "  counts = []\n",
    "  for letter in string:\n",
    "    count = parameter.count(letter)\n",
    "    counts.append(count)\n",
    "  print(counts)   \n",
    "    \n",
    "frequencies(\"The quick red fox got bored and went home.\")\n",
    "frequencies(\"apple\")"
   ]
  },
  {
   "cell_type": "code",
   "execution_count": null,
   "id": "d23869c7",
   "metadata": {},
   "outputs": [],
   "source": []
  }
 ],
 "metadata": {
  "kernelspec": {
   "display_name": "Python 3 (ipykernel)",
   "language": "python",
   "name": "python3"
  },
  "language_info": {
   "codemirror_mode": {
    "name": "ipython",
    "version": 3
   },
   "file_extension": ".py",
   "mimetype": "text/x-python",
   "name": "python",
   "nbconvert_exporter": "python",
   "pygments_lexer": "ipython3",
   "version": "3.9.12"
  }
 },
 "nbformat": 4,
 "nbformat_minor": 5
}
